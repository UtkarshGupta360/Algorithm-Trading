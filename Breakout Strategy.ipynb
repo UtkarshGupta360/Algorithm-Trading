{
  "nbformat": 4,
  "nbformat_minor": 0,
  "metadata": {
    "colab": {
      "provenance": []
    },
    "kernelspec": {
      "name": "python3",
      "display_name": "Python 3"
    },
    "language_info": {
      "name": "python"
    }
  },
  "cells": [
    {
      "cell_type": "markdown",
      "source": [
        "##Strategy 2 Breakout"
      ],
      "metadata": {
        "id": "zWpeF3y0hzVK"
      }
    },
    {
      "cell_type": "code",
      "source": [
        "import datetime as dt\n",
        "import yfinance as yf\n",
        "import pandas as pd\n",
        "import numpy as np\n",
        "import matplotlib.pyplot as plt\n",
        "import seaborn as sns"
      ],
      "metadata": {
        "id": "9utbQyPhld7K"
      },
      "execution_count": 2,
      "outputs": []
    },
    {
      "cell_type": "markdown",
      "source": [
        "Important Function"
      ],
      "metadata": {
        "id": "D9wZQ8gomSQo"
      }
    },
    {
      "cell_type": "code",
      "source": [
        "def ATR(DF,n):\n",
        "    \"function to calculate True Range and Average True Range\"\n",
        "    df = DF.copy()\n",
        "    df['H-L']=abs(df['High']-df['Low'])\n",
        "    df['H-PC']=abs(df['High']-df['Close'].shift(1))\n",
        "    df['L-PC']=abs(df['Low']-df['Close'].shift(1))\n",
        "    df['TR']=df[['H-L','H-PC','L-PC']].max(axis=1,skipna=False)\n",
        "    df['ATR'] = df['TR'].rolling(n).mean()\n",
        "    #df['ATR'] = df['TR'].ewm(span=n,adjust=False,min_periods=n).mean()\n",
        "    df2 = df.drop(['H-L','H-PC','L-PC'],axis=1)\n",
        "    return df2['ATR']\n",
        "\n",
        "def CAGR(DF):\n",
        "    \"function to calculate the Cumulative Annual Growth Rate of a trading strategy\"\n",
        "    df = DF.copy()\n",
        "    df[\"cum_return\"] = (1 + df[\"ret\"]).cumprod()\n",
        "    n = len(df)/(252*78)\n",
        "    CAGR = (df[\"cum_return\"].tolist()[-1])**(1/n) - 1\n",
        "    return CAGR\n",
        "\n",
        "def volatility(DF):\n",
        "    \"function to calculate annualized volatility of a trading strategy\"\n",
        "    df = DF.copy()\n",
        "    vol = df[\"ret\"].std() * np.sqrt(252*78)\n",
        "    return vol\n",
        "\n",
        "def sharpe(DF,rf):\n",
        "    \"function to calculate sharpe ratio ; rf is the risk free rate\"\n",
        "    df = DF.copy()\n",
        "    sr = (CAGR(df) - rf)/volatility(df)\n",
        "    return sr\n",
        "    \n",
        "\n",
        "def max_dd(DF):\n",
        "    \"function to calculate max drawdown\"\n",
        "    df = DF.copy()\n",
        "    df[\"cum_return\"] = (1 + df[\"ret\"]).cumprod()\n",
        "    df[\"cum_roll_max\"] = df[\"cum_return\"].cummax()\n",
        "    df[\"drawdown\"] = df[\"cum_roll_max\"] - df[\"cum_return\"]\n",
        "    df[\"drawdown_pct\"] = df[\"drawdown\"]/df[\"cum_roll_max\"]\n",
        "    max_dd = df[\"drawdown_pct\"].max()\n",
        "    return max_dd"
      ],
      "metadata": {
        "id": "74_iHxnUmNhd"
      },
      "execution_count": 3,
      "outputs": []
    },
    {
      "cell_type": "code",
      "source": [
        "tickers = [\"MSFT\",\"AAPL\",\"META\",\"AMZN\",\"INTC\", \"CSCO\",\"VZ\",\"IBM\",\"TSLA\",\"AMD\"]\n",
        "ohlc_intraday = {}\n",
        "for ticker in tickers:\n",
        "    temp = yf.download(ticker,period='1mo',interval='5m')\n",
        "    temp.dropna(how=\"any\",inplace=True)\n",
        "    temp = temp.between_time('09:35', '16:00')\n",
        "    ohlc_intraday[ticker] = temp\n",
        "tickers = ohlc_intraday.keys()"
      ],
      "metadata": {
        "colab": {
          "base_uri": "https://localhost:8080/"
        },
        "id": "B5-7ebrEhyKH",
        "outputId": "d4b1e640-2e3c-4c22-95c4-da391d38bde4"
      },
      "execution_count": 4,
      "outputs": [
        {
          "output_type": "stream",
          "name": "stdout",
          "text": [
            "[*********************100%***********************]  1 of 1 completed\n",
            "[*********************100%***********************]  1 of 1 completed\n",
            "[*********************100%***********************]  1 of 1 completed\n",
            "[*********************100%***********************]  1 of 1 completed\n",
            "[*********************100%***********************]  1 of 1 completed\n",
            "[*********************100%***********************]  1 of 1 completed\n",
            "[*********************100%***********************]  1 of 1 completed\n",
            "[*********************100%***********************]  1 of 1 completed\n",
            "[*********************100%***********************]  1 of 1 completed\n",
            "[*********************100%***********************]  1 of 1 completed\n"
          ]
        }
      ]
    },
    {
      "cell_type": "code",
      "source": [
        "import copy\n",
        "ohlc_dict = copy.deepcopy(ohlc_intraday)\n",
        "tickers_signal = {}\n",
        "tickers_ret = {}\n",
        "for ticker in tickers:\n",
        "    print(\"calculating ATR and rolling max price for \",ticker)\n",
        "    ohlc_dict[ticker][\"ATR\"] = ATR(ohlc_dict[ticker],20)\n",
        "    ohlc_dict[ticker][\"roll_max_cp\"] = ohlc_dict[ticker][\"High\"].rolling(20).max()\n",
        "    ohlc_dict[ticker][\"roll_min_cp\"] = ohlc_dict[ticker][\"Low\"].rolling(20).min()\n",
        "    ohlc_dict[ticker][\"roll_max_vol\"] = ohlc_dict[ticker][\"Volume\"].rolling(20).max()\n",
        "    ohlc_dict[ticker].dropna(inplace=True)\n",
        "    tickers_signal[ticker] = \"\" #signal\n",
        "    tickers_ret[ticker] = [0]  #return"
      ],
      "metadata": {
        "colab": {
          "base_uri": "https://localhost:8080/"
        },
        "id": "G7rYr6ShsNQR",
        "outputId": "10fd5d4f-f73e-4938-cbea-39ea1dee4c6b"
      },
      "execution_count": 5,
      "outputs": [
        {
          "output_type": "stream",
          "name": "stdout",
          "text": [
            "calculating ATR and rolling max price for  MSFT\n",
            "calculating ATR and rolling max price for  AAPL\n",
            "calculating ATR and rolling max price for  META\n",
            "calculating ATR and rolling max price for  AMZN\n",
            "calculating ATR and rolling max price for  INTC\n",
            "calculating ATR and rolling max price for  CSCO\n",
            "calculating ATR and rolling max price for  VZ\n",
            "calculating ATR and rolling max price for  IBM\n",
            "calculating ATR and rolling max price for  TSLA\n",
            "calculating ATR and rolling max price for  AMD\n"
          ]
        }
      ]
    },
    {
      "cell_type": "code",
      "source": [
        "for ticker in tickers:\n",
        "  print(\"Calculating returns for \",ticker)\n",
        "  for i in range(1,len(ohlc_dict[ticker])):\n",
        "    if tickers_signal[ticker] == \"\":\n",
        "        tickers_ret[ticker].append(0)\n",
        "        if ohlc_dict[ticker][\"High\"][i]>=ohlc_dict[ticker][\"roll_max_cp\"][i] and \\\n",
        "           ohlc_dict[ticker][\"Volume\"][i]>1.5*ohlc_dict[ticker][\"roll_max_vol\"][i-1]:\n",
        "            tickers_signal[ticker] = \"Buy\"\n",
        "        elif ohlc_dict[ticker][\"Low\"][i]<=ohlc_dict[ticker][\"roll_min_cp\"][i] and \\\n",
        "                  ohlc_dict[ticker][\"Volume\"][i]>1.5*ohlc_dict[ticker][\"roll_max_vol\"][i-1]:\n",
        "                   tickers_signal[ticker] = \"Sell\"\n",
        "\n",
        "    elif tickers_signal[ticker] == \"Buy\":\n",
        "            if ohlc_dict[ticker][\"Low\"][i]<ohlc_dict[ticker][\"Close\"][i-1] - ohlc_dict[ticker][\"ATR\"][i-1]:\n",
        "                tickers_signal[ticker] = \"\"\n",
        "                tickers_ret[ticker].append(((ohlc_dict[ticker][\"Close\"][i-1] - ohlc_dict[ticker][\"ATR\"][i-1])/ohlc_dict[ticker][\"Close\"][i-1])-1)\n",
        "            elif ohlc_dict[ticker][\"Low\"][i]<=ohlc_dict[ticker][\"roll_min_cp\"][i] and \\\n",
        "               ohlc_dict[ticker][\"Volume\"][i]>1.5*ohlc_dict[ticker][\"roll_max_vol\"][i-1]:\n",
        "                tickers_signal[ticker] = \"Sell\"\n",
        "                tickers_ret[ticker].append((ohlc_dict[ticker][\"Close\"][i]/ohlc_dict[ticker][\"Close\"][i-1])-1)\n",
        "            else:\n",
        "                tickers_ret[ticker].append((ohlc_dict[ticker][\"Close\"][i]/ohlc_dict[ticker][\"Close\"][i-1])-1)\n",
        "\n",
        "    elif tickers_signal[ticker] == \"Sell\":\n",
        "      if ohlc_dict[ticker][\"High\"][i]>ohlc_dict[ticker][\"Close\"][i-1] + ohlc_dict[ticker][\"ATR\"][i-1]:\n",
        "                tickers_signal[ticker] = \"\"\n",
        "                tickers_ret[ticker].append((ohlc_dict[ticker][\"Close\"][i-1]/(ohlc_dict[ticker][\"Close\"][i-1] + ohlc_dict[ticker][\"ATR\"][i-1]))-1)\n",
        "      elif ohlc_dict[ticker][\"High\"][i]>=ohlc_dict[ticker][\"roll_max_cp\"][i] and \\\n",
        "               ohlc_dict[ticker][\"Volume\"][i]>1.5*ohlc_dict[ticker][\"roll_max_vol\"][i-1]:\n",
        "                tickers_signal[ticker] = \"Buy\"\n",
        "                tickers_ret[ticker].append((ohlc_dict[ticker][\"Close\"][i-1]/ohlc_dict[ticker][\"Close\"][i])-1)\n",
        "      else:\n",
        "                tickers_ret[ticker].append((ohlc_dict[ticker][\"Close\"][i-1]/ohlc_dict[ticker][\"Close\"][i])-1)\n",
        "                \n",
        "  ohlc_dict[ticker]['ret'] = np.array(tickers_ret[ticker])"
      ],
      "metadata": {
        "colab": {
          "base_uri": "https://localhost:8080/"
        },
        "id": "Vk_ZYkX7mtSZ",
        "outputId": "0c7600b8-4b8a-4f18-fa6a-8b878632462c"
      },
      "execution_count": 6,
      "outputs": [
        {
          "output_type": "stream",
          "name": "stdout",
          "text": [
            "Calculating returns for  MSFT\n",
            "Calculating returns for  AAPL\n",
            "Calculating returns for  META\n",
            "Calculating returns for  AMZN\n",
            "Calculating returns for  INTC\n",
            "Calculating returns for  CSCO\n",
            "Calculating returns for  VZ\n",
            "Calculating returns for  IBM\n",
            "Calculating returns for  TSLA\n",
            "Calculating returns for  AMD\n"
          ]
        }
      ]
    },
    {
      "cell_type": "code",
      "source": [
        "strategy_df = pd.DataFrame()\n",
        "for ticker in tickers:\n",
        "  strategy_df[ticker] = ohlc_dict[ticker]['ret']\n",
        "strategy_df['ret'] = strategy_df.mean(axis = 1)\n",
        "print(f''' CAGR: {CAGR(strategy_df)}\n",
        "sharpe : {sharpe(strategy_df,0.025)}\n",
        "max_dd : {max_dd(strategy_df)}''')"
      ],
      "metadata": {
        "colab": {
          "base_uri": "https://localhost:8080/"
        },
        "id": "GTPR8UDy0x-y",
        "outputId": "5fec704d-6a53-4d94-fbc0-d3624e9848ea"
      },
      "execution_count": 11,
      "outputs": [
        {
          "output_type": "stream",
          "name": "stdout",
          "text": [
            " CAGR: 0.8444801613598296\n",
            "sharpe : 9.53213147457497\n",
            "max_dd : 0.004698735208766924\n"
          ]
        }
      ]
    },
    {
      "cell_type": "code",
      "source": [
        "(1+strategy_df[\"ret\"]).cumprod().plot()"
      ],
      "metadata": {
        "colab": {
          "base_uri": "https://localhost:8080/",
          "height": 303
        },
        "id": "BrA8kHFk2W1V",
        "outputId": "b2b85fa1-9d60-4af1-b024-2f40a7def0cb"
      },
      "execution_count": 15,
      "outputs": [
        {
          "output_type": "execute_result",
          "data": {
            "text/plain": [
              "<matplotlib.axes._subplots.AxesSubplot at 0x7efcfa8dcca0>"
            ]
          },
          "metadata": {},
          "execution_count": 15
        },
        {
          "output_type": "display_data",
          "data": {
            "text/plain": [
              "<Figure size 432x288 with 1 Axes>"
            ],
            "image/png": "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\n"
          },
          "metadata": {
            "needs_background": "light"
          }
        }
      ]
    },
    {
      "cell_type": "code",
      "source": [
        "cagr = {}\n",
        "sharpe_ratios = {}\n",
        "max_drawdown = {}\n",
        "for ticker in tickers:\n",
        "    print(\"calculating KPIs for \",ticker)      \n",
        "    cagr[ticker] =  CAGR(ohlc_dict[ticker])\n",
        "    sharpe_ratios[ticker] =  sharpe(ohlc_dict[ticker],0.025)\n",
        "    max_drawdown[ticker] =  max_dd(ohlc_dict[ticker])"
      ],
      "metadata": {
        "colab": {
          "base_uri": "https://localhost:8080/"
        },
        "id": "cgZOHq8M2cZH",
        "outputId": "6bd94391-ef34-4750-e6a7-c1c0f9450226"
      },
      "execution_count": 16,
      "outputs": [
        {
          "output_type": "stream",
          "name": "stdout",
          "text": [
            "calculating KPIs for  MSFT\n",
            "calculating KPIs for  AAPL\n",
            "calculating KPIs for  META\n",
            "calculating KPIs for  AMZN\n",
            "calculating KPIs for  INTC\n",
            "calculating KPIs for  CSCO\n",
            "calculating KPIs for  VZ\n",
            "calculating KPIs for  IBM\n",
            "calculating KPIs for  TSLA\n",
            "calculating KPIs for  AMD\n"
          ]
        }
      ]
    },
    {
      "cell_type": "code",
      "source": [
        "KPI_df = pd.DataFrame([cagr,sharpe_ratios,max_drawdown],index=[\"Return\",\"Sharpe Ratio\",\"Max Drawdown\"])      \n",
        "KPI_df.T\n"
      ],
      "metadata": {
        "colab": {
          "base_uri": "https://localhost:8080/",
          "height": 363
        },
        "id": "SanEuWBM285a",
        "outputId": "df3c511a-539c-4afd-c903-0effbabc03e8"
      },
      "execution_count": 17,
      "outputs": [
        {
          "output_type": "execute_result",
          "data": {
            "text/plain": [
              "        Return  Sharpe Ratio  Max Drawdown\n",
              "MSFT  1.462370      8.355661      0.019009\n",
              "AAPL  0.959231      9.087824      0.008365\n",
              "META  2.563994     12.930326      0.009035\n",
              "AMZN  0.189322      1.534849      0.012082\n",
              "INTC  2.360768     12.297644      0.017581\n",
              "CSCO  0.343631      3.147400      0.011434\n",
              "VZ   -0.009593     -0.643403      0.011873\n",
              "IBM   0.796328      7.661943      0.006955\n",
              "TSLA  0.055276      0.204888      0.036115\n",
              "AMD   1.462181      7.559836      0.012410"
            ],
            "text/html": [
              "\n",
              "  <div id=\"df-60a909f8-fce1-443b-97f3-cba92cb54a46\">\n",
              "    <div class=\"colab-df-container\">\n",
              "      <div>\n",
              "<style scoped>\n",
              "    .dataframe tbody tr th:only-of-type {\n",
              "        vertical-align: middle;\n",
              "    }\n",
              "\n",
              "    .dataframe tbody tr th {\n",
              "        vertical-align: top;\n",
              "    }\n",
              "\n",
              "    .dataframe thead th {\n",
              "        text-align: right;\n",
              "    }\n",
              "</style>\n",
              "<table border=\"1\" class=\"dataframe\">\n",
              "  <thead>\n",
              "    <tr style=\"text-align: right;\">\n",
              "      <th></th>\n",
              "      <th>Return</th>\n",
              "      <th>Sharpe Ratio</th>\n",
              "      <th>Max Drawdown</th>\n",
              "    </tr>\n",
              "  </thead>\n",
              "  <tbody>\n",
              "    <tr>\n",
              "      <th>MSFT</th>\n",
              "      <td>1.462370</td>\n",
              "      <td>8.355661</td>\n",
              "      <td>0.019009</td>\n",
              "    </tr>\n",
              "    <tr>\n",
              "      <th>AAPL</th>\n",
              "      <td>0.959231</td>\n",
              "      <td>9.087824</td>\n",
              "      <td>0.008365</td>\n",
              "    </tr>\n",
              "    <tr>\n",
              "      <th>META</th>\n",
              "      <td>2.563994</td>\n",
              "      <td>12.930326</td>\n",
              "      <td>0.009035</td>\n",
              "    </tr>\n",
              "    <tr>\n",
              "      <th>AMZN</th>\n",
              "      <td>0.189322</td>\n",
              "      <td>1.534849</td>\n",
              "      <td>0.012082</td>\n",
              "    </tr>\n",
              "    <tr>\n",
              "      <th>INTC</th>\n",
              "      <td>2.360768</td>\n",
              "      <td>12.297644</td>\n",
              "      <td>0.017581</td>\n",
              "    </tr>\n",
              "    <tr>\n",
              "      <th>CSCO</th>\n",
              "      <td>0.343631</td>\n",
              "      <td>3.147400</td>\n",
              "      <td>0.011434</td>\n",
              "    </tr>\n",
              "    <tr>\n",
              "      <th>VZ</th>\n",
              "      <td>-0.009593</td>\n",
              "      <td>-0.643403</td>\n",
              "      <td>0.011873</td>\n",
              "    </tr>\n",
              "    <tr>\n",
              "      <th>IBM</th>\n",
              "      <td>0.796328</td>\n",
              "      <td>7.661943</td>\n",
              "      <td>0.006955</td>\n",
              "    </tr>\n",
              "    <tr>\n",
              "      <th>TSLA</th>\n",
              "      <td>0.055276</td>\n",
              "      <td>0.204888</td>\n",
              "      <td>0.036115</td>\n",
              "    </tr>\n",
              "    <tr>\n",
              "      <th>AMD</th>\n",
              "      <td>1.462181</td>\n",
              "      <td>7.559836</td>\n",
              "      <td>0.012410</td>\n",
              "    </tr>\n",
              "  </tbody>\n",
              "</table>\n",
              "</div>\n",
              "      <button class=\"colab-df-convert\" onclick=\"convertToInteractive('df-60a909f8-fce1-443b-97f3-cba92cb54a46')\"\n",
              "              title=\"Convert this dataframe to an interactive table.\"\n",
              "              style=\"display:none;\">\n",
              "        \n",
              "  <svg xmlns=\"http://www.w3.org/2000/svg\" height=\"24px\"viewBox=\"0 0 24 24\"\n",
              "       width=\"24px\">\n",
              "    <path d=\"M0 0h24v24H0V0z\" fill=\"none\"/>\n",
              "    <path d=\"M18.56 5.44l.94 2.06.94-2.06 2.06-.94-2.06-.94-.94-2.06-.94 2.06-2.06.94zm-11 1L8.5 8.5l.94-2.06 2.06-.94-2.06-.94L8.5 2.5l-.94 2.06-2.06.94zm10 10l.94 2.06.94-2.06 2.06-.94-2.06-.94-.94-2.06-.94 2.06-2.06.94z\"/><path d=\"M17.41 7.96l-1.37-1.37c-.4-.4-.92-.59-1.43-.59-.52 0-1.04.2-1.43.59L10.3 9.45l-7.72 7.72c-.78.78-.78 2.05 0 2.83L4 21.41c.39.39.9.59 1.41.59.51 0 1.02-.2 1.41-.59l7.78-7.78 2.81-2.81c.8-.78.8-2.07 0-2.86zM5.41 20L4 18.59l7.72-7.72 1.47 1.35L5.41 20z\"/>\n",
              "  </svg>\n",
              "      </button>\n",
              "      \n",
              "  <style>\n",
              "    .colab-df-container {\n",
              "      display:flex;\n",
              "      flex-wrap:wrap;\n",
              "      gap: 12px;\n",
              "    }\n",
              "\n",
              "    .colab-df-convert {\n",
              "      background-color: #E8F0FE;\n",
              "      border: none;\n",
              "      border-radius: 50%;\n",
              "      cursor: pointer;\n",
              "      display: none;\n",
              "      fill: #1967D2;\n",
              "      height: 32px;\n",
              "      padding: 0 0 0 0;\n",
              "      width: 32px;\n",
              "    }\n",
              "\n",
              "    .colab-df-convert:hover {\n",
              "      background-color: #E2EBFA;\n",
              "      box-shadow: 0px 1px 2px rgba(60, 64, 67, 0.3), 0px 1px 3px 1px rgba(60, 64, 67, 0.15);\n",
              "      fill: #174EA6;\n",
              "    }\n",
              "\n",
              "    [theme=dark] .colab-df-convert {\n",
              "      background-color: #3B4455;\n",
              "      fill: #D2E3FC;\n",
              "    }\n",
              "\n",
              "    [theme=dark] .colab-df-convert:hover {\n",
              "      background-color: #434B5C;\n",
              "      box-shadow: 0px 1px 3px 1px rgba(0, 0, 0, 0.15);\n",
              "      filter: drop-shadow(0px 1px 2px rgba(0, 0, 0, 0.3));\n",
              "      fill: #FFFFFF;\n",
              "    }\n",
              "  </style>\n",
              "\n",
              "      <script>\n",
              "        const buttonEl =\n",
              "          document.querySelector('#df-60a909f8-fce1-443b-97f3-cba92cb54a46 button.colab-df-convert');\n",
              "        buttonEl.style.display =\n",
              "          google.colab.kernel.accessAllowed ? 'block' : 'none';\n",
              "\n",
              "        async function convertToInteractive(key) {\n",
              "          const element = document.querySelector('#df-60a909f8-fce1-443b-97f3-cba92cb54a46');\n",
              "          const dataTable =\n",
              "            await google.colab.kernel.invokeFunction('convertToInteractive',\n",
              "                                                     [key], {});\n",
              "          if (!dataTable) return;\n",
              "\n",
              "          const docLinkHtml = 'Like what you see? Visit the ' +\n",
              "            '<a target=\"_blank\" href=https://colab.research.google.com/notebooks/data_table.ipynb>data table notebook</a>'\n",
              "            + ' to learn more about interactive tables.';\n",
              "          element.innerHTML = '';\n",
              "          dataTable['output_type'] = 'display_data';\n",
              "          await google.colab.output.renderOutput(dataTable, element);\n",
              "          const docLink = document.createElement('div');\n",
              "          docLink.innerHTML = docLinkHtml;\n",
              "          element.appendChild(docLink);\n",
              "        }\n",
              "      </script>\n",
              "    </div>\n",
              "  </div>\n",
              "  "
            ]
          },
          "metadata": {},
          "execution_count": 17
        }
      ]
    },
    
